{
 "cells": [
  {
   "cell_type": "markdown",
   "metadata": {},
   "source": [
    "## Optimized Breakfast Mix"
   ]
  },
  {
   "cell_type": "markdown",
   "metadata": {},
   "source": [
    "Import required packages"
   ]
  },
  {
   "cell_type": "code",
   "execution_count": 1,
   "metadata": {},
   "outputs": [
    {
     "name": "stdout",
     "output_type": "stream",
     "text": [
      "[[0.11940299]\n",
      " [1.57462687]\n",
      " [0.23134328]]\n",
      "Optimized Breakfast Mix (% by weight): Cheerios: [0.0620155] , Cap’n Crunch: [0.81782946] ,  Lucky Charms: [0.12015504] .\n"
     ]
    }
   ],
   "source": [
    "import numpy as np\n",
    "from numpy import linalg\n",
    "\n",
    "\"\"\" Solve the nutritional programming problem here using the variable x\n",
    "    for your solution                                                   \"\"\"\n",
    "\n",
    "''' initial data set with np.array added before b'''\n",
    "A = np.array([[105,130,120],[1,3,5],[2,4,2]])\n",
    "b = np.array([[245],[6],[7]])\n",
    "'''use np.linalg.solve from NumPy documentation to solve'''\n",
    "x = np.linalg.solve(A, b)\n",
    "print(x)\n",
    "'''Print data'''\n",
    "print('Optimized Breakfast Mix (% by weight): Cheerios:',x[0,0]/sum(x),', Cap’n Crunch:',x[1,0]/sum(x),',  Lucky Charms:',x[2,0]/sum(x),'.')\n",
    "'''Test resultant'''\n",
    "y = A.dot(x)-b"
   ]
  },
  {
   "cell_type": "markdown",
   "metadata": {},
   "source": [
    "Solve the nutritional programming problem here using the variable x for your solution"
   ]
  },
  {
   "cell_type": "code",
   "execution_count": 2,
   "metadata": {},
   "outputs": [],
   "source": [
    "A = np.array([[105,130,120],[1,3,5],[2,4,2]])\n",
    "b = np.array([[245],[6],[7]])"
   ]
  },
  {
   "cell_type": "code",
   "execution_count": 3,
   "metadata": {},
   "outputs": [
    {
     "name": "stdout",
     "output_type": "stream",
     "text": [
      "[[0.11940299]\n",
      " [1.57462687]\n",
      " [0.23134328]]\n"
     ]
    }
   ],
   "source": [
    "x = np.linalg.solve(A, b)\n",
    "print(x)"
   ]
  },
  {
   "cell_type": "markdown",
   "metadata": {},
   "source": [
    "Print Solution"
   ]
  },
  {
   "cell_type": "code",
   "execution_count": 4,
   "metadata": {},
   "outputs": [
    {
     "name": "stdout",
     "output_type": "stream",
     "text": [
      "Optimized Breakfast Mix (% by weight): Cheerios: [0.0620155] , Cap’n Crunch: [0.81782946] ,  Lucky Charms: [0.12015504] .\n"
     ]
    }
   ],
   "source": [
    "print('Optimized Breakfast Mix (% by weight): Cheerios:',x[0,0]/sum(x),', Cap’n Crunch:',x[1,0]/sum(x),',  Lucky Charms:',x[2,0]/sum(x),'.')"
   ]
  },
  {
   "cell_type": "markdown",
   "metadata": {},
   "source": [
    "Test resultant"
   ]
  },
  {
   "cell_type": "code",
   "execution_count": 5,
   "metadata": {},
   "outputs": [
    {
     "name": "stdout",
     "output_type": "stream",
     "text": [
      "[[0.0000000e+00]\n",
      " [0.0000000e+00]\n",
      " [8.8817842e-16]]\n"
     ]
    }
   ],
   "source": [
    "y = A.dot(x)-b\n",
    "print(y)"
   ]
  }
 ],
 "metadata": {
  "kernelspec": {
   "display_name": "Python 3",
   "language": "python",
   "name": "python3"
  },
  "language_info": {
   "codemirror_mode": {
    "name": "ipython",
    "version": 3
   },
   "file_extension": ".py",
   "mimetype": "text/x-python",
   "name": "python",
   "nbconvert_exporter": "python",
   "pygments_lexer": "ipython3",
   "version": "3.8.3"
  }
 },
 "nbformat": 4,
 "nbformat_minor": 4
}
